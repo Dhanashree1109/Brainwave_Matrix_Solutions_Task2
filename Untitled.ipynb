{
 "cells": [
  {
   "cell_type": "code",
   "execution_count": 83,
   "id": "d004931f-0995-4d2c-96f1-93cf4e9f49d5",
   "metadata": {},
   "outputs": [
    {
     "name": "stdin",
     "output_type": "stream",
     "text": [
      "Enter a password to check its strength:  Password123!\n"
     ]
    },
    {
     "name": "stdout",
     "output_type": "stream",
     "text": [
      "Length check (>=8): True\n",
      "Complexity score (>=3 types): 4 (Should be 3 or more for strong)\n",
      "Uniqueness check (allow lowercase repetition and numbers): True\n",
      "Password Strength: Strong\n"
     ]
    }
   ],
   "source": [
    "import re\n",
    "\n",
    "def check_password_strength(password):\n",
    "    # 1. Check Length: Strong if length >= 8\n",
    "    length_score = len(password) >= 8\n",
    "    print(f\"Length check (>=8): {length_score}\")\n",
    "\n",
    "    # 2. Check Complexity: We need at least 3 of these: uppercase, lowercase, digits, special characters\n",
    "    complexity_score = 0\n",
    "    if re.search(r'[A-Z]', password):  # Check for uppercase letters\n",
    "        complexity_score += 1\n",
    "    if re.search(r'[a-z]', password):  # Check for lowercase letters\n",
    "        complexity_score += 1\n",
    "    if re.search(r'[0-9]', password):  # Check for digits\n",
    "        complexity_score += 1\n",
    "    if re.search(r'[!@#$%^&*(),.?\":{}|<>]', password):  # Check for special characters\n",
    "        complexity_score += 1\n",
    "    print(f\"Complexity score (>=3 types): {complexity_score} (Should be 3 or more for strong)\")\n",
    "\n",
    "    # 3. Check Uniqueness: \n",
    "    uniqueness_score = True\n",
    "\n",
    "    # Check for repetition of special characters more than twice (e.g., !!!, @@@)\n",
    "    if re.search(r'(\\W)\\1{2,}', password):  # Special character repetition (non-word character)\n",
    "        print(f\"Repetition of special characters detected!\")\n",
    "        uniqueness_score = False\n",
    "    \n",
    "    # Check for common weak patterns: 'abc', '123', 'qwerty', and only exact lowercase 'password'\n",
    "    if re.search(r'\\b(password|abc|123|qwerty)\\b', password):  # Only exact lowercase patterns\n",
    "        print(f\"Common weak pattern detected!\")\n",
    "        uniqueness_score = False\n",
    "\n",
    "    print(f\"Uniqueness check (allow lowercase repetition and numbers): {uniqueness_score}\")\n",
    "\n",
    "    # 4. Final strength determination\n",
    "    if length_score and complexity_score >= 3 and uniqueness_score:\n",
    "        return \"Strong\"\n",
    "    elif length_score and complexity_score >= 2 and uniqueness_score:\n",
    "        return \"Moderate\"\n",
    "    else:\n",
    "        return \"Weak\"\n",
    "\n",
    "\n",
    "# Test the function\n",
    "password = input(\"Enter a password to check its strength: \")\n",
    "strength = check_password_strength(password)\n",
    "print(f\"Password Strength: {strength}\")\n"
   ]
  },
  {
   "cell_type": "code",
   "execution_count": null,
   "id": "ca599ad3-2d86-45a1-90d1-2a8ebfcb3a4e",
   "metadata": {},
   "outputs": [],
   "source": []
  }
 ],
 "metadata": {
  "kernelspec": {
   "display_name": "Python [conda env:base] *",
   "language": "python",
   "name": "conda-base-py"
  },
  "language_info": {
   "codemirror_mode": {
    "name": "ipython",
    "version": 3
   },
   "file_extension": ".py",
   "mimetype": "text/x-python",
   "name": "python",
   "nbconvert_exporter": "python",
   "pygments_lexer": "ipython3",
   "version": "3.12.7"
  }
 },
 "nbformat": 4,
 "nbformat_minor": 5
}
